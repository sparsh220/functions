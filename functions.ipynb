{
  "nbformat": 4,
  "nbformat_minor": 0,
  "metadata": {
    "colab": {
      "provenance": []
    },
    "kernelspec": {
      "name": "python3",
      "display_name": "Python 3"
    },
    "language_info": {
      "name": "python"
    }
  },
  "cells": [
    {
      "cell_type": "markdown",
      "source": [
        "# Theory Questions:\n",
        "## Note: For each theory Question, give at least one example.\n",
        "\n",
        "\n",
        "##Q 1 What is the difference between a function and a method in Python?\n",
        "\n",
        "Function: A function is a structured, reusable code block utilized for carrying out a specific task. Functions facilitate the creation of modular code, simplifying maintenance and reusability.\n",
        "\n",
        "example :- def greet():\n",
        "             \n",
        "             return hello\n",
        "\n",
        "Method : A function that is inside a class and is called an object.\n",
        "\n",
        "example :- my_car.start()\n",
        "\n",
        "##Q 2  Explain the concept of function arguments and parameters in Python?\n",
        "* Parameter - A variable wrritten inside the function(like a place holder).\n",
        "\n",
        "* Arguments - The actual value you pass when calling the function.\n",
        "\n",
        "example -\n",
        "def greet(name):\n",
        "  return hello,name\n",
        "greet(\"sparsh\")\n",
        "      \n",
        "here in this example,\n",
        "\n",
        "name = parameter (defined in function)\n",
        "\"sparsh\" = argument (actual value given to function)\n",
        "\n",
        "##Q 3 What are the different ways to define and call a function in Python?\n",
        "There are different ways to define and call a function in python :\n",
        "\n",
        "###1. Normal function:\n",
        "definition:\n",
        "\n",
        "def greet():\n",
        "    \n",
        "    print(\"hello\")\n",
        "\n",
        "calling:\n",
        "\n",
        "greet()\n",
        "\n",
        "###2. Function with parameter :\n",
        "\n",
        "definition\n",
        "\n",
        "def greet(name):\n",
        "\n",
        "  print(\"hello\" , name)\n",
        "\n",
        "callling :\n",
        "\n",
        "greet(\"sparsh\")\n",
        "\n",
        "### 3 Function with default parameter:\n",
        "\n",
        "def numbers(a, b, c = 10)  \n",
        "    return a+b+c   \n",
        "\n",
        "calling:\n",
        "\n",
        "numbers( a = 10 , b= 15)\n",
        "#### c is default parameter if we don't take the value of c it will take c as 10\n",
        "\n",
        "\n",
        "### Q 4  What is the purpose of the 'return' statement in a Python function?\n",
        "Return Statement: Determines the value that the function will return. If not included, the function defaults to returning None.\n",
        "\n",
        "Example :  \n",
        "def add_num(x,y):\n",
        "  return x+y\n",
        "\n",
        "result = add_num(3,2)\n",
        "print(result)\n",
        "8\n",
        "\n",
        "### Q 5 What are iterators in Python and how do they differ from iterables?\n",
        "An iterator is an object that representing a stream of data that returns the data one by one. you can get am iterator from an iterable using iter () function. whereas iterable is an object that can be looped over. we can use iterable in a for loop.\n",
        "\n",
        "Example :\n",
        "my_list = [10, 20, 30]      # iterable\n",
        "\n",
        "my_iter = iter(my_list)     # iterator\n",
        "\n",
        "print(next(my_iter))        # 10\n",
        "print(next(my_iter))        # 20\n",
        "print(next(my_iter))        # 30\n",
        "\n",
        "### Q 6  Explain the concept of generators in Python and how they are defined.\n",
        "Generators are a simple way to create iterators using functions and the yield keyword instead of returning values.\n",
        "\n",
        "Key Points:\n",
        "\n",
        "•\tyield Keyword:\n",
        "\n",
        "*\tYield vs. Return: Unlike the return statement, which exits the function, yield returns a value and pauses the function’s state, allowing it to resume from where it left off.\n",
        "*\tMultiple Yields: Functions can yield multiple values over time, producing a sequence of results.\n",
        "\n",
        "Lazy Evaluation:\n",
        "\n",
        "•\tOn-Demand Data: Generators produce values one at a time and only when required, avoiding the need to generate or store all values upfront.\n",
        "\n",
        "•\tMemory Efficiency: Since values are generated as needed and not all at once, generators use minimal memory.\n",
        "\n",
        "Example :\n",
        "\n",
        "def square(n):\n",
        "\n",
        "    for i in range(1, n+1):\n",
        "        yield i*i\n",
        "for s in square(5):\n",
        "\n",
        "      print(s)\n",
        "\n",
        "### Q 7 What are the advantages of using generators over regular functions?\n",
        "Advantages of using generator function over regular function :\n",
        "\n",
        "•\tEfficient Memory Usage: Generators do not store the entire sequence in memory, making them suitable for large datasets or infinite sequences.\n",
        "\n",
        "•\tSimpler Syntax: Using yield simplifies the creation of iterators, making the code more concise and readable.\n",
        "\n",
        "Example  of regular function :\n",
        "def squares_list(n):\n",
        "\n",
        "    result = []\n",
        "    for i in range (n, n+1):\n",
        "        result.append(i*i)\n",
        "    return result\n",
        "\n",
        "Example of generator function:\n",
        "\n",
        "def square(n):\n",
        "\n",
        "    for i in range(1, n+1):\n",
        "        yield i*i\n",
        "for s in square(5):\n",
        "\n",
        "      print(s)\n",
        "\n",
        "### Q 8  What is a lambda function in Python and when is it typically used?\n",
        ": Lambda functions are small, anonymous functions defined using the lambda keyword. They are used for creating small, throwaway functions without the need to formally define a function using def\n",
        "\n",
        "It is typically used :\n",
        "\n",
        "1. for short simple function ( quick one line function)\n",
        "\n",
        "2. It used with map(), filter() and sorted.\n",
        "\n",
        "Example :\n",
        "\n",
        "add = lambda x,y : x+y\n",
        "\n",
        "print(add(5,10))\n",
        "\n",
        "\n",
        "### Q 9  Explain the purpose and usage of the 'map()' function in Python.\n",
        "\n",
        ": The map function applies a given function to all items in an input iterable (like a list) and returns an iterator with the results.\n",
        "Key Points:\n",
        "\n",
        "purpose:\n",
        "\n",
        "to transform or modify all elements in a sequence without using a loop.\n",
        "\n",
        "Example:\n",
        "\n",
        "numbers = [1,2,3]\n",
        "\n",
        "squares = map(lambda x: x**2, numbers)\n",
        "\n",
        "print(list(squares))\n",
        "\n",
        "### Q 10  What is the difference between 'map()', 'reduce()', and 'filter()' functions in Python?\n",
        "Map Functions:\n",
        "\n",
        "Definition: The map function applies a given function to all items in an input iterable (like a list) and returns an iterator with the results.\n",
        "\n",
        "Key Points:\n",
        "\n",
        "•\tTransformation: Used to transform each item in an iterable by applying the specified function.\n",
        "\n",
        "Example :\n",
        "\n",
        "num = [1,2,3]\n",
        "\n",
        "doubled = list(map(lambda x : x*2, nums))\n",
        "\n",
        "print(doubled)\n",
        "\n",
        "Reduce Functions:\n",
        "\n",
        "Definition: The reduce function from the functools module applies a given function cumulatively to the items of a sequence, from left to right, to reduce the sequence to a single value.\n",
        "\n",
        "Key Points:\n",
        "\n",
        "•\tCumulative Operation: It reduces an iterable to a single cumulative value by applying the function cumulatively.\n",
        "\n",
        "Example :\n",
        "\n",
        "from functools import reduce\n",
        "\n",
        "num = [1,2,3]\n",
        "\n",
        "result = reduce(lambda x,y: x*y, num]\n",
        "\n",
        "print(result)\n",
        "\n",
        "Filter() :\n",
        "Definition: The filter function constructs an iterator from elements of an iterable for which a specified function returns True.\n",
        "\n",
        "Key Points:\n",
        "\n",
        "•\tSelection: Used for filtering elements from an iterable based on a condition defined by the function.\n",
        "\n",
        "Example :\n",
        "\n",
        "numbers = [1,2,3,4,5,6,7,8]\n",
        "\n",
        "even_nums = filter(lambda x: x % 2 == 0 , numbers)\n",
        "\n",
        "print(list(even_nums))\n",
        "\n",
        "\n",
        "### Q 11  Using pen & Paper write the internal mechanism for sum operation using  reduce function on this given\n",
        "list:[47,11,42,13];\n",
        "\n",
        "1. internal mechanism (step by step)\n",
        "start with the first two elements:\n",
        "   x = 47; y = 11\n",
        "   x + y = 58\n",
        "\n",
        "2. take the result (58) and the next element(42):\n",
        "   x = 58; y = 42\n",
        "   x + y = 100\n",
        "\n",
        "3. take the result (100) and the last element(13):\n",
        "    x = 100 ; y = 13\n",
        "    x + y = 113\n",
        "\n",
        "Final Answer\n",
        "The Sum = 113"
      ],
      "metadata": {
        "id": "tPqJlrruDrde"
      }
    },
    {
      "cell_type": "markdown",
      "source": [
        "# Practical Questions:"
      ],
      "metadata": {
        "id": "ALsD-5BcFhKB"
      }
    },
    {
      "cell_type": "code",
      "source": [
        "# 1. Write a Python function that takes a list of numbers as input and returns the sum of all even numbers in\n",
        "# the list.\n",
        "def sum_even_numbers(numbers):\n",
        "    sum_even = 0\n",
        "    for num in numbers:\n",
        "        if num % 2 == 0:\n",
        "            sum_even += num\n",
        "    return sum_even\n",
        "\n"
      ],
      "metadata": {
        "id": "Tbuf8WKjFrg3"
      },
      "execution_count": null,
      "outputs": []
    },
    {
      "cell_type": "code",
      "source": [
        "numbers = [1, 2, 3, 4, 5, 6, 7, 8, 9, 10]\n",
        "result = sum_even_numbers(numbers)\n",
        "print(result)"
      ],
      "metadata": {
        "colab": {
          "base_uri": "https://localhost:8080/"
        },
        "id": "jS8QUKnQB4VJ",
        "outputId": "a7ec9629-2d8f-4f0c-d137-b4fd0651ddbf"
      },
      "execution_count": null,
      "outputs": [
        {
          "output_type": "stream",
          "name": "stdout",
          "text": [
            "30\n"
          ]
        }
      ]
    },
    {
      "cell_type": "code",
      "source": [
        "# 2. Create a Python function that accepts a string and returns the reverse of that string\n",
        "def reverse_str(a):\n",
        "  return a[::-1]\n"
      ],
      "metadata": {
        "id": "jzGlxBvmGQ4x"
      },
      "execution_count": null,
      "outputs": []
    },
    {
      "cell_type": "code",
      "source": [
        "reverse_str('hello world')"
      ],
      "metadata": {
        "colab": {
          "base_uri": "https://localhost:8080/",
          "height": 35
        },
        "id": "0h7zUepBCjx_",
        "outputId": "5c0b408a-4124-428c-deca-ebe38ad8becd"
      },
      "execution_count": null,
      "outputs": [
        {
          "output_type": "execute_result",
          "data": {
            "text/plain": [
              "'dlrow olleh'"
            ],
            "application/vnd.google.colaboratory.intrinsic+json": {
              "type": "string"
            }
          },
          "metadata": {},
          "execution_count": 26
        }
      ]
    },
    {
      "cell_type": "code",
      "source": [
        "# 3. Implement a Python function that takes a list of integers and returns a new list containing the squares of\n",
        "# each number.\n",
        "\n",
        "def square(*a):\n",
        "  n = []\n",
        "  for i in a:\n",
        "    n.append(i**2)\n",
        "  return n"
      ],
      "metadata": {
        "id": "acMGvgD2GRLt"
      },
      "execution_count": null,
      "outputs": []
    },
    {
      "cell_type": "code",
      "source": [
        "square (1,2,3,4,5)"
      ],
      "metadata": {
        "colab": {
          "base_uri": "https://localhost:8080/"
        },
        "id": "2uAqU4V5D41n",
        "outputId": "30ecb812-5bc0-4717-db14-e6f4bc33bde0"
      },
      "execution_count": null,
      "outputs": [
        {
          "output_type": "execute_result",
          "data": {
            "text/plain": [
              "[1, 4, 9, 16, 25]"
            ]
          },
          "metadata": {},
          "execution_count": 22
        }
      ]
    },
    {
      "cell_type": "code",
      "source": [
        "# 4. Write a Python function that checks if a given number is prime or not from 1 to 200.\n",
        "def prime_or_not_prime (n):\n",
        "  if n < 2:\n",
        "    return False\n",
        "  for i in range (2, 200):\n",
        "    if n % i == 0 and i != n:\n",
        "      return False\n",
        "  return True\n",
        "\n",
        "print(prime_or_not_prime(3))"
      ],
      "metadata": {
        "id": "qKScyiJMGgrJ",
        "colab": {
          "base_uri": "https://localhost:8080/"
        },
        "outputId": "045925cb-0aff-4e15-dedb-1b81e9861654"
      },
      "execution_count": null,
      "outputs": [
        {
          "output_type": "stream",
          "name": "stdout",
          "text": [
            "True\n"
          ]
        }
      ]
    },
    {
      "cell_type": "code",
      "source": [
        "# 5. Create an iterator class in Python that generates the Fibonacci sequence up to a specified number of terms.\n",
        "def fib(n):\n",
        "  a = 0\n",
        "  b = 1\n",
        "  for i in range(n):\n",
        "    yield a\n",
        "    a,b = b, a+b\n",
        "\n",
        "\n",
        "f = fib(10)\n",
        "print(next(f))\n",
        "print(next(f))\n",
        "print(next(f))\n",
        "print(next(f))\n",
        "print(next(f))\n",
        "print(next(f))\n",
        "print(next(f))\n",
        "print(next(f))\n",
        "print(next(f))\n",
        "print(next(f))\n"
      ],
      "metadata": {
        "id": "hheawHgMGl5E",
        "colab": {
          "base_uri": "https://localhost:8080/"
        },
        "outputId": "1c40fcd3-9c10-4cc4-8450-853b9942fee4"
      },
      "execution_count": null,
      "outputs": [
        {
          "output_type": "stream",
          "name": "stdout",
          "text": [
            "0\n",
            "1\n",
            "1\n",
            "2\n",
            "3\n",
            "5\n",
            "8\n",
            "13\n",
            "21\n",
            "34\n"
          ]
        }
      ]
    },
    {
      "cell_type": "code",
      "source": [
        "# 6. Write a generator function in Python that yields the powers of 2 up to a given exponent.\n",
        "def power(n):\n",
        "  for i in range(n):\n",
        "    yield 2**i\n",
        "\n",
        "p = power(5)\n",
        "print(next(p))\n",
        "print(next(p))\n",
        "print(next(p))\n",
        "print(next(p))\n",
        "print(next(p))\n",
        "\n"
      ],
      "metadata": {
        "id": "xGHY-6zmGmBn",
        "colab": {
          "base_uri": "https://localhost:8080/"
        },
        "outputId": "4d9ddb87-4955-447b-95d2-9058cda0f848"
      },
      "execution_count": null,
      "outputs": [
        {
          "output_type": "stream",
          "name": "stdout",
          "text": [
            "1\n",
            "2\n",
            "4\n",
            "8\n",
            "16\n"
          ]
        }
      ]
    },
    {
      "cell_type": "code",
      "source": [
        "# 7. Implement a generator function that reads a file line by line and yields each line as a string.\n",
        "def read_lines(file_path):\n",
        "  with open(file_path, 'r') as file:\n",
        "    for line in file:\n",
        "      yield line\n",
        "\n"
      ],
      "metadata": {
        "id": "bQktMAs2GmQ0"
      },
      "execution_count": null,
      "outputs": []
    },
    {
      "cell_type": "code",
      "source": [
        "# 8. Use a lambda function in Python to sort a list of tuples based on the second element of each tuple.\n",
        "data = [(3,5),(3,4),(1,2)]\n",
        "sotred_data = sorted(data, key = lambda x: x[1])\n",
        "print(sotred_data)\n"
      ],
      "metadata": {
        "id": "pfd7abxlGmaP",
        "colab": {
          "base_uri": "https://localhost:8080/"
        },
        "outputId": "963488d0-d411-44b2-e48e-4493df6d3f05"
      },
      "execution_count": null,
      "outputs": [
        {
          "output_type": "stream",
          "name": "stdout",
          "text": [
            "[(1, 2), (3, 4), (3, 5)]\n"
          ]
        }
      ]
    },
    {
      "cell_type": "code",
      "source": [
        "# 9. Write a Python program that uses `map()` to convert a list of temperatures from Celsius to Fahrenheit.\n",
        "celsius = [0,20,30]\n",
        "fahrenheit = list(map( lambda c : (c*9/5)+32, celsius))\n",
        "\n",
        "print(fahrenheit)"
      ],
      "metadata": {
        "id": "Pc8xM1p4G9ws",
        "colab": {
          "base_uri": "https://localhost:8080/"
        },
        "outputId": "1c9ad99c-baf8-411e-fe7d-ae421443b377"
      },
      "execution_count": null,
      "outputs": [
        {
          "output_type": "stream",
          "name": "stdout",
          "text": [
            "[32.0, 68.0, 86.0]\n"
          ]
        }
      ]
    },
    {
      "cell_type": "code",
      "source": [
        "# 10. Create a Python program that uses `filter()` to remove all the vowels from a given string.\n",
        "def remove_vowels(string):\n",
        "    vowels = 'aeiouAEIOU'\n",
        "    filtered_string = ''.join(filter(lambda x: x not in vowels, string))\n",
        "    return filtered_string\n",
        "input_string = \"Hello, World!\"\n",
        "result = remove_vowels(input_string)\n",
        "print(result)\n",
        "\n",
        "\n"
      ],
      "metadata": {
        "id": "pkbAeiLcG9z3",
        "colab": {
          "base_uri": "https://localhost:8080/"
        },
        "outputId": "d93ca959-f891-4bd4-f184-e20b5bc1d102"
      },
      "execution_count": null,
      "outputs": [
        {
          "output_type": "stream",
          "name": "stdout",
          "text": [
            "Hll, Wrld!\n"
          ]
        }
      ]
    },
    {
      "cell_type": "code",
      "source": [
        " #11) Imagine an accounting routine used in a book shop. It works on a list with sublists, which look like this:\n",
        "\n",
        "# order number      Book Title and Author                  Quantity\n",
        "\n",
        "# Price per Item\n",
        "# 34587             Learning Python, Mark Lutz                 4             40.95\n",
        "# 98762             Programming Python, Mark Lutz              5             56.80\n",
        "# 77261             Head First Python, Paul Barry              3             32.95\n",
        "# 88112             Einführung in Python3, Bernd Klein         3             24.99\n",
        "\n",
        "\n",
        "\n",
        "# Write a Python program, which returns a list with 2-tuples. Each tuple consists of the order number and the\n",
        "# product of the price per item and the quantity. The product should be increased by 10,- € if the value of the\n",
        "#  order is smaller than 100,00 €.\n",
        "\n",
        "#  Write a Python program using lambda and map.\n",
        "\n",
        "\n",
        "\n",
        "\n"
      ],
      "metadata": {
        "id": "YuS7t58HGysw"
      },
      "execution_count": null,
      "outputs": []
    },
    {
      "cell_type": "code",
      "source": [
        "orders = [\n",
        "    [34587, \"Learning Python, Mark Lutz\", 4, 40.95],\n",
        "    [98762, \"Programming Python, Mark Lutz\", 5, 56.80],\n",
        "    [77261, \"Head First Python, Paul Barry\", 3, 32.95],\n",
        "    [88112, \"Einführung in Python3, Bernd Klein\", 3, 24.99]\n",
        "]\n",
        "\n",
        "# Lambda + Map solution\n",
        "result = list(map(lambda order: (order[0], order[2] * order[3] if order[2] * order[3] >= 100 else order[2] * order[3] + 10), orders))\n",
        "\n",
        "print(result)\n"
      ],
      "metadata": {
        "colab": {
          "base_uri": "https://localhost:8080/"
        },
        "id": "wf1NhXwc1I8P",
        "outputId": "f99d4dbf-c709-4102-ed07-8be3f303773f"
      },
      "execution_count": null,
      "outputs": [
        {
          "output_type": "stream",
          "name": "stdout",
          "text": [
            "[(34587, 163.8), (98762, 284.0), (77261, 108.85000000000001), (88112, 84.97)]\n"
          ]
        }
      ]
    }
  ]
}